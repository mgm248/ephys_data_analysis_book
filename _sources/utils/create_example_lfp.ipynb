{
 "cells": [
  {
   "cell_type": "code",
   "execution_count": null,
   "id": "ca0f0703-9966-4de7-931c-d51d4f263772",
   "metadata": {},
   "outputs": [],
   "source": [
    "import numpy as np\n",
    "\n",
    "fpath = (r'C:\\Users\\Michael\\Documents\\ephys_analysis_tutorials\\\\')\n",
    "lfp_data = np.load(fpath+'example_lfp_160819_bank2.npy')\n",
    "stim_times = np.load(fpath+'example_stim_times_160819_bank2.npy')\n",
    "evt = stim_times[0,7] #look at the first presentation of the first odor\n",
    "time_segment = [int(evt*fs)-2000, int(evt*fs+2000)] #start and end event times of interest, converted to ms\n",
    "seg_data = lfp_data[time_segment[0]:time_segment[1]]\n",
    "np.save(fpath+'example_lfp.npy', seg_data)"
   ]
  }
 ],
 "metadata": {
  "kernelspec": {
   "display_name": "Python 3 (ipykernel)",
   "language": "python",
   "name": "python3"
  },
  "language_info": {
   "codemirror_mode": {
    "name": "ipython",
    "version": 3
   },
   "file_extension": ".py",
   "mimetype": "text/x-python",
   "name": "python",
   "nbconvert_exporter": "python",
   "pygments_lexer": "ipython3",
   "version": "3.8.13"
  }
 },
 "nbformat": 4,
 "nbformat_minor": 5
}
